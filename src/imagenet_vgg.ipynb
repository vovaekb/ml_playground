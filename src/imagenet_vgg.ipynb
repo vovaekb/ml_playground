{
  "nbformat": 4,
  "nbformat_minor": 0,
  "metadata": {
    "colab": {
      "name": "imagenet_vgg.ipynb",
      "version": "0.3.2",
      "provenance": [],
      "collapsed_sections": [],
      "include_colab_link": true
    },
    "kernelspec": {
      "name": "python3",
      "display_name": "Python 3"
    }
  },
  "cells": [
    {
      "cell_type": "markdown",
      "metadata": {
        "id": "view-in-github",
        "colab_type": "text"
      },
      "source": [
        "<a href=\"https://colab.research.google.com/github/vovaekb/ml_playground/blob/master/src/imagenet_vgg.ipynb\" target=\"_parent\"><img src=\"https://colab.research.google.com/assets/colab-badge.svg\" alt=\"Open In Colab\"/></a>"
      ]
    },
    {
      "metadata": {
        "id": "3XMpYTc2dTM9",
        "colab_type": "text"
      },
      "cell_type": "markdown",
      "source": [
        "**Using pre-trained models: VGG16**\n",
        "\n",
        "Tutorial: https://www.pyimagesearch.com/2016/08/10/imagenet-classification-with-python-and-keras/"
      ]
    },
    {
      "metadata": {
        "id": "11b_uqn_c67a",
        "colab_type": "code",
        "outputId": "6642d5d2-6f97-400f-8057-34667d442881",
        "colab": {
          "base_uri": "https://localhost:8080/",
          "height": 50
        }
      },
      "cell_type": "code",
      "source": [
        "!pip install pillow"
      ],
      "execution_count": 0,
      "outputs": [
        {
          "output_type": "stream",
          "text": [
            "Requirement already satisfied: pillow in /usr/local/lib/python3.6/dist-packages (4.1.1)\n",
            "Requirement already satisfied: olefile in /usr/local/lib/python3.6/dist-packages (from pillow) (0.46)\n"
          ],
          "name": "stdout"
        }
      ]
    },
    {
      "metadata": {
        "id": "qR1QvUxag-oJ",
        "colab_type": "code",
        "outputId": "86bca5f6-7e9f-4e0d-f7f0-6c4832c3210a",
        "colab": {
          "base_uri": "https://localhost:8080/",
          "height": 202
        }
      },
      "cell_type": "code",
      "source": [
        "!wget https://static.toiimg.com/thumb/63168213/Indian-Railways-to-cut-luxury-trains-tariff-by-50.jpg?width=748&height=499 && mv Indian-Railways-to-cut-luxury-trains-tariff-by-50.jpg?width=748 train.jpg"
      ],
      "execution_count": 0,
      "outputs": [
        {
          "output_type": "stream",
          "text": [
            "--2019-04-11 11:10:32--  https://static.toiimg.com/thumb/63168213/Indian-Railways-to-cut-luxury-trains-tariff-by-50.jpg?width=748\n",
            "Resolving static.toiimg.com (static.toiimg.com)... 23.5.141.71, 2001:590:2809:285::216f, 2001:590:2809:291::216f\n",
            "Connecting to static.toiimg.com (static.toiimg.com)|23.5.141.71|:443... connected.\n",
            "HTTP request sent, awaiting response... 200 OK\n",
            "Length: 12691 (12K) [image/jpeg]\n",
            "Saving to: ‘Indian-Railways-to-cut-luxury-trains-tariff-by-50.jpg?width=748’\n",
            "\n",
            "\r          Indian-Ra   0%[                    ]       0  --.-KB/s               \rIndian-Railways-to- 100%[===================>]  12.39K  --.-KB/s    in 0s      \n",
            "\n",
            "2019-04-11 11:10:33 (118 MB/s) - ‘Indian-Railways-to-cut-luxury-trains-tariff-by-50.jpg?width=748’ saved [12691/12691]\n",
            "\n"
          ],
          "name": "stdout"
        }
      ]
    },
    {
      "metadata": {
        "id": "09RQLu6IhRjG",
        "colab_type": "code",
        "outputId": "5ca06167-b7f2-45c6-8785-f957bbdaed00",
        "colab": {
          "base_uri": "https://localhost:8080/",
          "height": 34
        }
      },
      "cell_type": "code",
      "source": [
        "!ls -l train.jpg"
      ],
      "execution_count": 0,
      "outputs": [
        {
          "output_type": "stream",
          "text": [
            "-rw-r--r-- 1 root root 12691 Apr 11 11:09 train.jpg\n"
          ],
          "name": "stdout"
        }
      ]
    },
    {
      "metadata": {
        "id": "SZcyqP8FfwEK",
        "colab_type": "code",
        "outputId": "3c76a9d1-a08b-4c18-85f1-9cd4973532b5",
        "colab": {
          "base_uri": "https://localhost:8080/",
          "height": 34
        }
      },
      "cell_type": "code",
      "source": [
        "import keras\n",
        "from keras.preprocessing import image as image_utils\n",
        "from keras.applications.imagenet_utils import decode_predictions\n",
        "from keras.applications.imagenet_utils import preprocess_input\n",
        "from keras.applications import VGG16\n",
        "import numpy as np\n",
        "import cv2\n",
        "\n",
        "# load the original image via OpenCV\n",
        "orig = cv2.imread('train.jpg')\n"
      ],
      "execution_count": 0,
      "outputs": [
        {
          "output_type": "stream",
          "text": [
            "Using TensorFlow backend.\n"
          ],
          "name": "stderr"
        }
      ]
    },
    {
      "metadata": {
        "id": "quhFt9mXhrzk",
        "colab_type": "code",
        "outputId": "0646292c-2f6d-446b-bc45-615dcc2bb93b",
        "colab": {
          "base_uri": "https://localhost:8080/",
          "height": 34
        }
      },
      "cell_type": "code",
      "source": [
        "print(\"[INFO] loading and preprocessing image...\")\n",
        "image = image_utils.load_img('train.jpg', target_size=(224, 224))\n",
        "image = image_utils.img_to_array(image)"
      ],
      "execution_count": 0,
      "outputs": [
        {
          "output_type": "stream",
          "text": [
            "[INFO] loading and preprocessing image...\n"
          ],
          "name": "stdout"
        }
      ]
    },
    {
      "metadata": {
        "id": "1aGr7tUhlVpC",
        "colab_type": "code",
        "outputId": "81a785f5-31d3-401f-ca9c-1d497a975ab0",
        "colab": {
          "base_uri": "https://localhost:8080/",
          "height": 34
        }
      },
      "cell_type": "code",
      "source": [
        "image.shape"
      ],
      "execution_count": 0,
      "outputs": [
        {
          "output_type": "execute_result",
          "data": {
            "text/plain": [
              "(224, 224, 3)"
            ]
          },
          "metadata": {
            "tags": []
          },
          "execution_count": 8
        }
      ]
    },
    {
      "metadata": {
        "id": "63wKrL__iWqz",
        "colab_type": "code",
        "outputId": "c607c4de-a41b-4ee1-a598-275b20a9a1a9",
        "colab": {
          "base_uri": "https://localhost:8080/",
          "height": 34
        }
      },
      "cell_type": "code",
      "source": [
        "# our image is now represented by a NumPy array of shape (224, 224, 3),\n",
        "# assuming TensorFlow \"channels last\" ordering of course, but we need\n",
        "# to expand the dimensions to be (1, 3, 224, 224) so we can pass it\n",
        "# through the network -- we'll also preprocess the image by subtracting\n",
        "# the mean RGB pixel intensity from the ImageNet dataset\n",
        "image = np.expand_dims(image, axis=0)\n",
        "print(image.shape)\n",
        "image = preprocess_input(image)"
      ],
      "execution_count": 0,
      "outputs": [
        {
          "output_type": "stream",
          "text": [
            "(1, 224, 224, 3)\n"
          ],
          "name": "stdout"
        }
      ]
    },
    {
      "metadata": {
        "id": "BEuRRsrqmc3H",
        "colab_type": "code",
        "outputId": "fbfc3ecc-cf11-4d6f-b235-69d1482b97d2",
        "colab": {
          "base_uri": "https://localhost:8080/",
          "height": 188
        }
      },
      "cell_type": "code",
      "source": [
        "# load the VGG16 network pre-trained on the ImageNet dataset\n",
        "print(\"[INFO] loading network...\")\n",
        "model = VGG16(weights=\"imagenet\")\n",
        "\n",
        "# classify the image\n",
        "preds = model.predict(image)\n",
        "P = decode_predictions(preds)\n",
        "print(P[0])"
      ],
      "execution_count": 0,
      "outputs": [
        {
          "output_type": "stream",
          "text": [
            "[INFO] loading network...\n",
            "WARNING:tensorflow:From /usr/local/lib/python3.6/dist-packages/tensorflow/python/framework/op_def_library.py:263: colocate_with (from tensorflow.python.framework.ops) is deprecated and will be removed in a future version.\n",
            "Instructions for updating:\n",
            "Colocations handled automatically by placer.\n",
            "Downloading data from https://github.com/fchollet/deep-learning-models/releases/download/v0.1/vgg16_weights_tf_dim_ordering_tf_kernels.h5\n",
            "553467904/553467096 [==============================] - 12s 0us/step\n",
            "Downloading data from https://s3.amazonaws.com/deep-learning-models/image-models/imagenet_class_index.json\n",
            "40960/35363 [==================================] - 0s 0us/step\n",
            "[('n03393912', 'freight_car', 0.14681947), ('n04366367', 'suspension_bridge', 0.12463818), ('n03895866', 'passenger_car', 0.12135008), ('n04335435', 'streetcar', 0.09312374), ('n02793495', 'barn', 0.07235849)]\n"
          ],
          "name": "stdout"
        }
      ]
    },
    {
      "metadata": {
        "id": "IRNcxzX5n6nI",
        "colab_type": "code",
        "outputId": "d88c5e31-f6cf-4758-de1b-b370b51b0613",
        "colab": {
          "base_uri": "https://localhost:8080/",
          "height": 101
        }
      },
      "cell_type": "code",
      "source": [
        "# loop over the predictions and display the rank-5 predictions +\n",
        "# probabilities to our terminal\n",
        "for (i, (imagenetID, label, prob)) in enumerate(P[0]):\n",
        "  print(\"{}. {}: {:.2f}%\".format(i + 1, label, prob * 100))"
      ],
      "execution_count": 0,
      "outputs": [
        {
          "output_type": "stream",
          "text": [
            "1. freight_car: 14.68%\n",
            "2. suspension_bridge: 12.46%\n",
            "3. passenger_car: 12.14%\n",
            "4. streetcar: 9.31%\n",
            "5. barn: 7.24%\n"
          ],
          "name": "stdout"
        }
      ]
    },
    {
      "metadata": {
        "id": "oMQXbifvoTC_",
        "colab_type": "code",
        "outputId": "df9095fa-1ac6-4e17-e840-12730aab2cac",
        "colab": {
          "base_uri": "https://localhost:8080/",
          "height": 109
        }
      },
      "cell_type": "code",
      "source": [
        "from matplotlib import pyplot as plt\n",
        "\n",
        "%matplotlib inline\n",
        "\n",
        "# load the image via OpenCV, draw the top prediction on the image,\n",
        "# and display the image to our screen\n",
        "orig = cv2.imread('train.jpg')\n",
        "(imagenetID, label, prob) = P[0][0]\n",
        "plt.title(\"Label: {}, {:.2f}%\".format(label, prob * 100)) # \"Classification\"\n",
        "plt.imshow(orig)\n",
        "plt.show()"
      ],
      "execution_count": 0,
      "outputs": [
        {
          "output_type": "display_data",
          "data": {
            "image/png": "[encoded data removed]",
            "text/plain": [
              "<Figure size 432x288 with 1 Axes>"
            ]
          },
          "metadata": {
            "tags": []
          }
        }
      ]
    }
  ]
}